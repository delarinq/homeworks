{
 "cells": [
  {
   "cell_type": "markdown",
   "id": "459e2399",
   "metadata": {},
   "source": [
    "# Обучение нейронной сети на Stroke Prediction Dataset"
   ]
  },
  {
   "cell_type": "markdown",
   "id": "3aaee3f6",
   "metadata": {},
   "source": [
    "## Подключение необходимых библиотек"
   ]
  },
  {
   "cell_type": "code",
   "execution_count": 1,
   "id": "c045c499",
   "metadata": {},
   "outputs": [
    {
     "name": "stdout",
     "output_type": "stream",
     "text": [
      "Requirement already satisfied: imblearn in d:\\programs_d\\anaconda3\\lib\\site-packages (0.0)\n",
      "Requirement already satisfied: imbalanced-learn in d:\\programs_d\\anaconda3\\lib\\site-packages (from imblearn) (0.8.1)\n",
      "Requirement already satisfied: scikit-learn>=0.24 in d:\\programs_d\\anaconda3\\lib\\site-packages (from imbalanced-learn->imblearn) (0.24.1)\n",
      "Requirement already satisfied: numpy>=1.13.3 in d:\\programs_d\\anaconda3\\lib\\site-packages (from imbalanced-learn->imblearn) (1.20.1)\n",
      "Requirement already satisfied: scipy>=0.19.1 in d:\\programs_d\\anaconda3\\lib\\site-packages (from imbalanced-learn->imblearn) (1.6.2)\n",
      "Requirement already satisfied: joblib>=0.11 in d:\\programs_d\\anaconda3\\lib\\site-packages (from imbalanced-learn->imblearn) (1.0.1)\n",
      "Requirement already satisfied: threadpoolctl>=2.0.0 in d:\\programs_d\\anaconda3\\lib\\site-packages (from scikit-learn>=0.24->imbalanced-learn->imblearn) (2.1.0)\n"
     ]
    }
   ],
   "source": [
    "import numpy as np\n",
    "import matplotlib.pyplot as plt\n",
    "%matplotlib inline\n",
    "import pandas as pd\n",
    "import seaborn as sns\n",
    "import sklearn\n",
    "from sklearn.model_selection import train_test_split\n",
    "from sklearn.neural_network import MLPClassifier\n",
    "from sklearn.metrics import accuracy_score\n",
    "from sklearn.metrics import confusion_matrix\n",
    "from sklearn.metrics import classification_report\n",
    "!pip install imblearn\n",
    "from imblearn.over_sampling import RandomOverSampler"
   ]
  },
  {
   "cell_type": "markdown",
   "id": "7c063c15",
   "metadata": {},
   "source": [
    "## Загрузка данных"
   ]
  },
  {
   "cell_type": "code",
   "execution_count": 2,
   "id": "0192a740",
   "metadata": {},
   "outputs": [
    {
     "data": {
      "text/plain": [
       "(5110, 12)"
      ]
     },
     "execution_count": 2,
     "metadata": {},
     "output_type": "execute_result"
    }
   ],
   "source": [
    "data_raw = pd.read_csv('healthcare-dataset-stroke-data.csv')\n",
    "data_raw.shape"
   ]
  },
  {
   "cell_type": "code",
   "execution_count": 3,
   "id": "f2b1818d",
   "metadata": {},
   "outputs": [
    {
     "data": {
      "text/html": [
       "<div>\n",
       "<style scoped>\n",
       "    .dataframe tbody tr th:only-of-type {\n",
       "        vertical-align: middle;\n",
       "    }\n",
       "\n",
       "    .dataframe tbody tr th {\n",
       "        vertical-align: top;\n",
       "    }\n",
       "\n",
       "    .dataframe thead th {\n",
       "        text-align: right;\n",
       "    }\n",
       "</style>\n",
       "<table border=\"1\" class=\"dataframe\">\n",
       "  <thead>\n",
       "    <tr style=\"text-align: right;\">\n",
       "      <th></th>\n",
       "      <th>id</th>\n",
       "      <th>gender</th>\n",
       "      <th>age</th>\n",
       "      <th>hypertension</th>\n",
       "      <th>heart_disease</th>\n",
       "      <th>ever_married</th>\n",
       "      <th>work_type</th>\n",
       "      <th>Residence_type</th>\n",
       "      <th>avg_glucose_level</th>\n",
       "      <th>bmi</th>\n",
       "      <th>smoking_status</th>\n",
       "      <th>stroke</th>\n",
       "    </tr>\n",
       "  </thead>\n",
       "  <tbody>\n",
       "    <tr>\n",
       "      <th>0</th>\n",
       "      <td>9046</td>\n",
       "      <td>Male</td>\n",
       "      <td>67.0</td>\n",
       "      <td>0</td>\n",
       "      <td>1</td>\n",
       "      <td>Yes</td>\n",
       "      <td>Private</td>\n",
       "      <td>Urban</td>\n",
       "      <td>228.69</td>\n",
       "      <td>36.6</td>\n",
       "      <td>formerly smoked</td>\n",
       "      <td>1</td>\n",
       "    </tr>\n",
       "    <tr>\n",
       "      <th>1</th>\n",
       "      <td>51676</td>\n",
       "      <td>Female</td>\n",
       "      <td>61.0</td>\n",
       "      <td>0</td>\n",
       "      <td>0</td>\n",
       "      <td>Yes</td>\n",
       "      <td>Self-employed</td>\n",
       "      <td>Rural</td>\n",
       "      <td>202.21</td>\n",
       "      <td>NaN</td>\n",
       "      <td>never smoked</td>\n",
       "      <td>1</td>\n",
       "    </tr>\n",
       "    <tr>\n",
       "      <th>2</th>\n",
       "      <td>31112</td>\n",
       "      <td>Male</td>\n",
       "      <td>80.0</td>\n",
       "      <td>0</td>\n",
       "      <td>1</td>\n",
       "      <td>Yes</td>\n",
       "      <td>Private</td>\n",
       "      <td>Rural</td>\n",
       "      <td>105.92</td>\n",
       "      <td>32.5</td>\n",
       "      <td>never smoked</td>\n",
       "      <td>1</td>\n",
       "    </tr>\n",
       "    <tr>\n",
       "      <th>3</th>\n",
       "      <td>60182</td>\n",
       "      <td>Female</td>\n",
       "      <td>49.0</td>\n",
       "      <td>0</td>\n",
       "      <td>0</td>\n",
       "      <td>Yes</td>\n",
       "      <td>Private</td>\n",
       "      <td>Urban</td>\n",
       "      <td>171.23</td>\n",
       "      <td>34.4</td>\n",
       "      <td>smokes</td>\n",
       "      <td>1</td>\n",
       "    </tr>\n",
       "    <tr>\n",
       "      <th>4</th>\n",
       "      <td>1665</td>\n",
       "      <td>Female</td>\n",
       "      <td>79.0</td>\n",
       "      <td>1</td>\n",
       "      <td>0</td>\n",
       "      <td>Yes</td>\n",
       "      <td>Self-employed</td>\n",
       "      <td>Rural</td>\n",
       "      <td>174.12</td>\n",
       "      <td>24.0</td>\n",
       "      <td>never smoked</td>\n",
       "      <td>1</td>\n",
       "    </tr>\n",
       "    <tr>\n",
       "      <th>...</th>\n",
       "      <td>...</td>\n",
       "      <td>...</td>\n",
       "      <td>...</td>\n",
       "      <td>...</td>\n",
       "      <td>...</td>\n",
       "      <td>...</td>\n",
       "      <td>...</td>\n",
       "      <td>...</td>\n",
       "      <td>...</td>\n",
       "      <td>...</td>\n",
       "      <td>...</td>\n",
       "      <td>...</td>\n",
       "    </tr>\n",
       "    <tr>\n",
       "      <th>5105</th>\n",
       "      <td>18234</td>\n",
       "      <td>Female</td>\n",
       "      <td>80.0</td>\n",
       "      <td>1</td>\n",
       "      <td>0</td>\n",
       "      <td>Yes</td>\n",
       "      <td>Private</td>\n",
       "      <td>Urban</td>\n",
       "      <td>83.75</td>\n",
       "      <td>NaN</td>\n",
       "      <td>never smoked</td>\n",
       "      <td>0</td>\n",
       "    </tr>\n",
       "    <tr>\n",
       "      <th>5106</th>\n",
       "      <td>44873</td>\n",
       "      <td>Female</td>\n",
       "      <td>81.0</td>\n",
       "      <td>0</td>\n",
       "      <td>0</td>\n",
       "      <td>Yes</td>\n",
       "      <td>Self-employed</td>\n",
       "      <td>Urban</td>\n",
       "      <td>125.20</td>\n",
       "      <td>40.0</td>\n",
       "      <td>never smoked</td>\n",
       "      <td>0</td>\n",
       "    </tr>\n",
       "    <tr>\n",
       "      <th>5107</th>\n",
       "      <td>19723</td>\n",
       "      <td>Female</td>\n",
       "      <td>35.0</td>\n",
       "      <td>0</td>\n",
       "      <td>0</td>\n",
       "      <td>Yes</td>\n",
       "      <td>Self-employed</td>\n",
       "      <td>Rural</td>\n",
       "      <td>82.99</td>\n",
       "      <td>30.6</td>\n",
       "      <td>never smoked</td>\n",
       "      <td>0</td>\n",
       "    </tr>\n",
       "    <tr>\n",
       "      <th>5108</th>\n",
       "      <td>37544</td>\n",
       "      <td>Male</td>\n",
       "      <td>51.0</td>\n",
       "      <td>0</td>\n",
       "      <td>0</td>\n",
       "      <td>Yes</td>\n",
       "      <td>Private</td>\n",
       "      <td>Rural</td>\n",
       "      <td>166.29</td>\n",
       "      <td>25.6</td>\n",
       "      <td>formerly smoked</td>\n",
       "      <td>0</td>\n",
       "    </tr>\n",
       "    <tr>\n",
       "      <th>5109</th>\n",
       "      <td>44679</td>\n",
       "      <td>Female</td>\n",
       "      <td>44.0</td>\n",
       "      <td>0</td>\n",
       "      <td>0</td>\n",
       "      <td>Yes</td>\n",
       "      <td>Govt_job</td>\n",
       "      <td>Urban</td>\n",
       "      <td>85.28</td>\n",
       "      <td>26.2</td>\n",
       "      <td>Unknown</td>\n",
       "      <td>0</td>\n",
       "    </tr>\n",
       "  </tbody>\n",
       "</table>\n",
       "<p>5110 rows × 12 columns</p>\n",
       "</div>"
      ],
      "text/plain": [
       "         id  gender   age  hypertension  heart_disease ever_married  \\\n",
       "0      9046    Male  67.0             0              1          Yes   \n",
       "1     51676  Female  61.0             0              0          Yes   \n",
       "2     31112    Male  80.0             0              1          Yes   \n",
       "3     60182  Female  49.0             0              0          Yes   \n",
       "4      1665  Female  79.0             1              0          Yes   \n",
       "...     ...     ...   ...           ...            ...          ...   \n",
       "5105  18234  Female  80.0             1              0          Yes   \n",
       "5106  44873  Female  81.0             0              0          Yes   \n",
       "5107  19723  Female  35.0             0              0          Yes   \n",
       "5108  37544    Male  51.0             0              0          Yes   \n",
       "5109  44679  Female  44.0             0              0          Yes   \n",
       "\n",
       "          work_type Residence_type  avg_glucose_level   bmi   smoking_status  \\\n",
       "0           Private          Urban             228.69  36.6  formerly smoked   \n",
       "1     Self-employed          Rural             202.21   NaN     never smoked   \n",
       "2           Private          Rural             105.92  32.5     never smoked   \n",
       "3           Private          Urban             171.23  34.4           smokes   \n",
       "4     Self-employed          Rural             174.12  24.0     never smoked   \n",
       "...             ...            ...                ...   ...              ...   \n",
       "5105        Private          Urban              83.75   NaN     never smoked   \n",
       "5106  Self-employed          Urban             125.20  40.0     never smoked   \n",
       "5107  Self-employed          Rural              82.99  30.6     never smoked   \n",
       "5108        Private          Rural             166.29  25.6  formerly smoked   \n",
       "5109       Govt_job          Urban              85.28  26.2          Unknown   \n",
       "\n",
       "      stroke  \n",
       "0          1  \n",
       "1          1  \n",
       "2          1  \n",
       "3          1  \n",
       "4          1  \n",
       "...      ...  \n",
       "5105       0  \n",
       "5106       0  \n",
       "5107       0  \n",
       "5108       0  \n",
       "5109       0  \n",
       "\n",
       "[5110 rows x 12 columns]"
      ]
     },
     "execution_count": 3,
     "metadata": {},
     "output_type": "execute_result"
    }
   ],
   "source": [
    "data_raw"
   ]
  },
  {
   "cell_type": "markdown",
   "id": "26fb5ea1",
   "metadata": {},
   "source": [
    "## Обработка и подготовка данных"
   ]
  },
  {
   "cell_type": "code",
   "execution_count": 4,
   "id": "7d3d8b6f",
   "metadata": {},
   "outputs": [
    {
     "data": {
      "text/plain": [
       "0    4861\n",
       "1     249\n",
       "Name: stroke, dtype: int64"
      ]
     },
     "execution_count": 4,
     "metadata": {},
     "output_type": "execute_result"
    }
   ],
   "source": [
    "pd.Series(data_raw.stroke).value_counts()"
   ]
  },
  {
   "cell_type": "markdown",
   "id": "c2fdd66b",
   "metadata": {},
   "source": [
    "Всего 4861 объект первого класса и 249 объектов второго класса. Очевидно, что данные сильно несбалансированы, и для успешного обучения нейронной сети будет необходимо их обработать."
   ]
  },
  {
   "cell_type": "code",
   "execution_count": 5,
   "id": "5d9b47a2",
   "metadata": {},
   "outputs": [
    {
     "data": {
      "text/plain": [
       "id                     0\n",
       "gender                 0\n",
       "age                    0\n",
       "hypertension           0\n",
       "heart_disease          0\n",
       "ever_married           0\n",
       "work_type              0\n",
       "Residence_type         0\n",
       "avg_glucose_level      0\n",
       "bmi                  201\n",
       "smoking_status         0\n",
       "stroke                 0\n",
       "dtype: int64"
      ]
     },
     "execution_count": 5,
     "metadata": {},
     "output_type": "execute_result"
    }
   ],
   "source": [
    "data_raw.isna().sum()"
   ]
  },
  {
   "cell_type": "markdown",
   "id": "5c239ca2",
   "metadata": {},
   "source": [
    "Заполним пропущенные значения медианой."
   ]
  },
  {
   "cell_type": "code",
   "execution_count": 6,
   "id": "69773b29",
   "metadata": {},
   "outputs": [],
   "source": [
    "data_raw.fillna(data_raw.median(axis = 0), axis=0 , inplace=True)"
   ]
  },
  {
   "cell_type": "code",
   "execution_count": 7,
   "id": "7f574038",
   "metadata": {},
   "outputs": [
    {
     "data": {
      "text/plain": [
       "id                   0\n",
       "gender               0\n",
       "age                  0\n",
       "hypertension         0\n",
       "heart_disease        0\n",
       "ever_married         0\n",
       "work_type            0\n",
       "Residence_type       0\n",
       "avg_glucose_level    0\n",
       "bmi                  0\n",
       "smoking_status       0\n",
       "stroke               0\n",
       "dtype: int64"
      ]
     },
     "execution_count": 7,
     "metadata": {},
     "output_type": "execute_result"
    }
   ],
   "source": [
    "data_raw.isna().sum()"
   ]
  },
  {
   "cell_type": "markdown",
   "id": "0ec067a9",
   "metadata": {},
   "source": [
    "Обработаем категориальные признаки. Приведём их к типу category."
   ]
  },
  {
   "cell_type": "code",
   "execution_count": 8,
   "id": "39a6dad8",
   "metadata": {},
   "outputs": [],
   "source": [
    "categorical_columns = [c for c in data_raw.columns if data_raw[c].dtype.name == 'object']"
   ]
  },
  {
   "cell_type": "code",
   "execution_count": 9,
   "id": "ae22e162",
   "metadata": {},
   "outputs": [],
   "source": [
    "data_raw[categorical_columns] = data_raw[categorical_columns].astype('category')"
   ]
  },
  {
   "cell_type": "code",
   "execution_count": 10,
   "id": "abda38a0",
   "metadata": {},
   "outputs": [
    {
     "data": {
      "text/plain": [
       "['gender', 'ever_married', 'work_type', 'Residence_type', 'smoking_status']"
      ]
     },
     "execution_count": 10,
     "metadata": {},
     "output_type": "execute_result"
    }
   ],
   "source": [
    "categorical_columns"
   ]
  },
  {
   "cell_type": "markdown",
   "id": "519ea408",
   "metadata": {},
   "source": [
    "У признака \"smoking_status\" есть ещё одно значение \"неизвестно\" (\"Unknown\"). Это пропущенные значения, и их необходимо обработать."
   ]
  },
  {
   "cell_type": "code",
   "execution_count": 11,
   "id": "752be649",
   "metadata": {},
   "outputs": [],
   "source": [
    "data_raw.loc[(data_raw['smoking_status']=='Unknown'), 'smoking_status'] = np.NaN"
   ]
  },
  {
   "cell_type": "code",
   "execution_count": 12,
   "id": "1b1df68c",
   "metadata": {},
   "outputs": [
    {
     "data": {
      "text/plain": [
       "id                      0\n",
       "gender                  0\n",
       "age                     0\n",
       "hypertension            0\n",
       "heart_disease           0\n",
       "ever_married            0\n",
       "work_type               0\n",
       "Residence_type          0\n",
       "avg_glucose_level       0\n",
       "bmi                     0\n",
       "smoking_status       1544\n",
       "stroke                  0\n",
       "dtype: int64"
      ]
     },
     "execution_count": 12,
     "metadata": {},
     "output_type": "execute_result"
    }
   ],
   "source": [
    "data_raw.isna().sum()"
   ]
  },
  {
   "cell_type": "markdown",
   "id": "92d1623a",
   "metadata": {},
   "source": [
    "Пропущенные значения заполним модой."
   ]
  },
  {
   "cell_type": "code",
   "execution_count": 13,
   "id": "06a7c36b",
   "metadata": {},
   "outputs": [],
   "source": [
    "data_raw['smoking_status'].fillna(data_raw['smoking_status'].mode().iloc[0], inplace=True)"
   ]
  },
  {
   "cell_type": "code",
   "execution_count": 14,
   "id": "3d52602d",
   "metadata": {},
   "outputs": [
    {
     "data": {
      "text/plain": [
       "id                   0\n",
       "gender               0\n",
       "age                  0\n",
       "hypertension         0\n",
       "heart_disease        0\n",
       "ever_married         0\n",
       "work_type            0\n",
       "Residence_type       0\n",
       "avg_glucose_level    0\n",
       "bmi                  0\n",
       "smoking_status       0\n",
       "stroke               0\n",
       "dtype: int64"
      ]
     },
     "execution_count": 14,
     "metadata": {},
     "output_type": "execute_result"
    }
   ],
   "source": [
    "data_raw.isna().sum()"
   ]
  },
  {
   "cell_type": "markdown",
   "id": "eb57961e",
   "metadata": {},
   "source": [
    "## Нормализация признаков"
   ]
  },
  {
   "cell_type": "markdown",
   "id": "9406054e",
   "metadata": {},
   "source": [
    "Закодируем бинарные категориальные признаки как числовые."
   ]
  },
  {
   "cell_type": "code",
   "execution_count": 15,
   "id": "d8a6e47f",
   "metadata": {},
   "outputs": [],
   "source": [
    "data_raw['ever_married'] = pd.factorize(data_raw['ever_married'])[0]"
   ]
  },
  {
   "cell_type": "markdown",
   "id": "b3964d99",
   "metadata": {},
   "source": [
    "Теперь 0 для признака \"состояли ли в браке\" - \"да\", а 1 - \"нет\"."
   ]
  },
  {
   "cell_type": "code",
   "execution_count": 16,
   "id": "86e8fe6d",
   "metadata": {},
   "outputs": [],
   "source": [
    "data_raw['Residence_type'] = pd.factorize(data_raw['Residence_type'])[0]"
   ]
  },
  {
   "cell_type": "markdown",
   "id": "82ce414a",
   "metadata": {},
   "source": [
    "0 - место жительства \"город\", 1 - место жительства \"селькая местность\"."
   ]
  },
  {
   "cell_type": "code",
   "execution_count": 17,
   "id": "873a5869",
   "metadata": {},
   "outputs": [
    {
     "data": {
      "text/html": [
       "<div>\n",
       "<style scoped>\n",
       "    .dataframe tbody tr th:only-of-type {\n",
       "        vertical-align: middle;\n",
       "    }\n",
       "\n",
       "    .dataframe tbody tr th {\n",
       "        vertical-align: top;\n",
       "    }\n",
       "\n",
       "    .dataframe thead th {\n",
       "        text-align: right;\n",
       "    }\n",
       "</style>\n",
       "<table border=\"1\" class=\"dataframe\">\n",
       "  <thead>\n",
       "    <tr style=\"text-align: right;\">\n",
       "      <th></th>\n",
       "      <th>id</th>\n",
       "      <th>gender</th>\n",
       "      <th>age</th>\n",
       "      <th>hypertension</th>\n",
       "      <th>heart_disease</th>\n",
       "      <th>ever_married</th>\n",
       "      <th>work_type</th>\n",
       "      <th>Residence_type</th>\n",
       "      <th>avg_glucose_level</th>\n",
       "      <th>bmi</th>\n",
       "      <th>smoking_status</th>\n",
       "      <th>stroke</th>\n",
       "    </tr>\n",
       "  </thead>\n",
       "  <tbody>\n",
       "    <tr>\n",
       "      <th>0</th>\n",
       "      <td>9046</td>\n",
       "      <td>Male</td>\n",
       "      <td>67.0</td>\n",
       "      <td>0</td>\n",
       "      <td>1</td>\n",
       "      <td>0</td>\n",
       "      <td>Private</td>\n",
       "      <td>0</td>\n",
       "      <td>228.69</td>\n",
       "      <td>36.6</td>\n",
       "      <td>formerly smoked</td>\n",
       "      <td>1</td>\n",
       "    </tr>\n",
       "    <tr>\n",
       "      <th>1</th>\n",
       "      <td>51676</td>\n",
       "      <td>Female</td>\n",
       "      <td>61.0</td>\n",
       "      <td>0</td>\n",
       "      <td>0</td>\n",
       "      <td>0</td>\n",
       "      <td>Self-employed</td>\n",
       "      <td>1</td>\n",
       "      <td>202.21</td>\n",
       "      <td>28.1</td>\n",
       "      <td>never smoked</td>\n",
       "      <td>1</td>\n",
       "    </tr>\n",
       "    <tr>\n",
       "      <th>2</th>\n",
       "      <td>31112</td>\n",
       "      <td>Male</td>\n",
       "      <td>80.0</td>\n",
       "      <td>0</td>\n",
       "      <td>1</td>\n",
       "      <td>0</td>\n",
       "      <td>Private</td>\n",
       "      <td>1</td>\n",
       "      <td>105.92</td>\n",
       "      <td>32.5</td>\n",
       "      <td>never smoked</td>\n",
       "      <td>1</td>\n",
       "    </tr>\n",
       "    <tr>\n",
       "      <th>3</th>\n",
       "      <td>60182</td>\n",
       "      <td>Female</td>\n",
       "      <td>49.0</td>\n",
       "      <td>0</td>\n",
       "      <td>0</td>\n",
       "      <td>0</td>\n",
       "      <td>Private</td>\n",
       "      <td>0</td>\n",
       "      <td>171.23</td>\n",
       "      <td>34.4</td>\n",
       "      <td>smokes</td>\n",
       "      <td>1</td>\n",
       "    </tr>\n",
       "    <tr>\n",
       "      <th>4</th>\n",
       "      <td>1665</td>\n",
       "      <td>Female</td>\n",
       "      <td>79.0</td>\n",
       "      <td>1</td>\n",
       "      <td>0</td>\n",
       "      <td>0</td>\n",
       "      <td>Self-employed</td>\n",
       "      <td>1</td>\n",
       "      <td>174.12</td>\n",
       "      <td>24.0</td>\n",
       "      <td>never smoked</td>\n",
       "      <td>1</td>\n",
       "    </tr>\n",
       "    <tr>\n",
       "      <th>...</th>\n",
       "      <td>...</td>\n",
       "      <td>...</td>\n",
       "      <td>...</td>\n",
       "      <td>...</td>\n",
       "      <td>...</td>\n",
       "      <td>...</td>\n",
       "      <td>...</td>\n",
       "      <td>...</td>\n",
       "      <td>...</td>\n",
       "      <td>...</td>\n",
       "      <td>...</td>\n",
       "      <td>...</td>\n",
       "    </tr>\n",
       "    <tr>\n",
       "      <th>5105</th>\n",
       "      <td>18234</td>\n",
       "      <td>Female</td>\n",
       "      <td>80.0</td>\n",
       "      <td>1</td>\n",
       "      <td>0</td>\n",
       "      <td>0</td>\n",
       "      <td>Private</td>\n",
       "      <td>0</td>\n",
       "      <td>83.75</td>\n",
       "      <td>28.1</td>\n",
       "      <td>never smoked</td>\n",
       "      <td>0</td>\n",
       "    </tr>\n",
       "    <tr>\n",
       "      <th>5106</th>\n",
       "      <td>44873</td>\n",
       "      <td>Female</td>\n",
       "      <td>81.0</td>\n",
       "      <td>0</td>\n",
       "      <td>0</td>\n",
       "      <td>0</td>\n",
       "      <td>Self-employed</td>\n",
       "      <td>0</td>\n",
       "      <td>125.20</td>\n",
       "      <td>40.0</td>\n",
       "      <td>never smoked</td>\n",
       "      <td>0</td>\n",
       "    </tr>\n",
       "    <tr>\n",
       "      <th>5107</th>\n",
       "      <td>19723</td>\n",
       "      <td>Female</td>\n",
       "      <td>35.0</td>\n",
       "      <td>0</td>\n",
       "      <td>0</td>\n",
       "      <td>0</td>\n",
       "      <td>Self-employed</td>\n",
       "      <td>1</td>\n",
       "      <td>82.99</td>\n",
       "      <td>30.6</td>\n",
       "      <td>never smoked</td>\n",
       "      <td>0</td>\n",
       "    </tr>\n",
       "    <tr>\n",
       "      <th>5108</th>\n",
       "      <td>37544</td>\n",
       "      <td>Male</td>\n",
       "      <td>51.0</td>\n",
       "      <td>0</td>\n",
       "      <td>0</td>\n",
       "      <td>0</td>\n",
       "      <td>Private</td>\n",
       "      <td>1</td>\n",
       "      <td>166.29</td>\n",
       "      <td>25.6</td>\n",
       "      <td>formerly smoked</td>\n",
       "      <td>0</td>\n",
       "    </tr>\n",
       "    <tr>\n",
       "      <th>5109</th>\n",
       "      <td>44679</td>\n",
       "      <td>Female</td>\n",
       "      <td>44.0</td>\n",
       "      <td>0</td>\n",
       "      <td>0</td>\n",
       "      <td>0</td>\n",
       "      <td>Govt_job</td>\n",
       "      <td>0</td>\n",
       "      <td>85.28</td>\n",
       "      <td>26.2</td>\n",
       "      <td>never smoked</td>\n",
       "      <td>0</td>\n",
       "    </tr>\n",
       "  </tbody>\n",
       "</table>\n",
       "<p>5110 rows × 12 columns</p>\n",
       "</div>"
      ],
      "text/plain": [
       "         id  gender   age  hypertension  heart_disease  ever_married  \\\n",
       "0      9046    Male  67.0             0              1             0   \n",
       "1     51676  Female  61.0             0              0             0   \n",
       "2     31112    Male  80.0             0              1             0   \n",
       "3     60182  Female  49.0             0              0             0   \n",
       "4      1665  Female  79.0             1              0             0   \n",
       "...     ...     ...   ...           ...            ...           ...   \n",
       "5105  18234  Female  80.0             1              0             0   \n",
       "5106  44873  Female  81.0             0              0             0   \n",
       "5107  19723  Female  35.0             0              0             0   \n",
       "5108  37544    Male  51.0             0              0             0   \n",
       "5109  44679  Female  44.0             0              0             0   \n",
       "\n",
       "          work_type  Residence_type  avg_glucose_level   bmi   smoking_status  \\\n",
       "0           Private               0             228.69  36.6  formerly smoked   \n",
       "1     Self-employed               1             202.21  28.1     never smoked   \n",
       "2           Private               1             105.92  32.5     never smoked   \n",
       "3           Private               0             171.23  34.4           smokes   \n",
       "4     Self-employed               1             174.12  24.0     never smoked   \n",
       "...             ...             ...                ...   ...              ...   \n",
       "5105        Private               0              83.75  28.1     never smoked   \n",
       "5106  Self-employed               0             125.20  40.0     never smoked   \n",
       "5107  Self-employed               1              82.99  30.6     never smoked   \n",
       "5108        Private               1             166.29  25.6  formerly smoked   \n",
       "5109       Govt_job               0              85.28  26.2     never smoked   \n",
       "\n",
       "      stroke  \n",
       "0          1  \n",
       "1          1  \n",
       "2          1  \n",
       "3          1  \n",
       "4          1  \n",
       "...      ...  \n",
       "5105       0  \n",
       "5106       0  \n",
       "5107       0  \n",
       "5108       0  \n",
       "5109       0  \n",
       "\n",
       "[5110 rows x 12 columns]"
      ]
     },
     "execution_count": 17,
     "metadata": {},
     "output_type": "execute_result"
    }
   ],
   "source": [
    "data_raw"
   ]
  },
  {
   "cell_type": "markdown",
   "id": "2f7f0663",
   "metadata": {},
   "source": [
    "К небинарным категориальным признакам применим метод бинаризации."
   ]
  },
  {
   "cell_type": "code",
   "execution_count": 18,
   "id": "5f154323",
   "metadata": {},
   "outputs": [],
   "source": [
    "work_type_dummies = pd.get_dummies(data_raw['work_type'])\n",
    "data_raw = pd.concat((data_raw, work_type_dummies), axis=1)\n",
    "data_raw = data_raw.drop(['work_type'], axis=1)"
   ]
  },
  {
   "cell_type": "code",
   "execution_count": 19,
   "id": "ca30edbb",
   "metadata": {},
   "outputs": [],
   "source": [
    "gender_dummies = pd.get_dummies(data_raw['gender'])\n",
    "data_raw = pd.concat((data_raw, gender_dummies), axis=1)\n",
    "data_raw = data_raw.drop(['gender'], axis=1)"
   ]
  },
  {
   "cell_type": "code",
   "execution_count": 20,
   "id": "83f04939",
   "metadata": {},
   "outputs": [],
   "source": [
    "smoking_status_dummies = pd.get_dummies(data_raw['smoking_status'])\n",
    "data_raw = pd.concat((data_raw, smoking_status_dummies), axis=1)\n",
    "data_raw = data_raw.drop(['smoking_status'], axis=1)"
   ]
  },
  {
   "cell_type": "code",
   "execution_count": 21,
   "id": "bcbefe48",
   "metadata": {},
   "outputs": [
    {
     "data": {
      "text/html": [
       "<div>\n",
       "<style scoped>\n",
       "    .dataframe tbody tr th:only-of-type {\n",
       "        vertical-align: middle;\n",
       "    }\n",
       "\n",
       "    .dataframe tbody tr th {\n",
       "        vertical-align: top;\n",
       "    }\n",
       "\n",
       "    .dataframe thead th {\n",
       "        text-align: right;\n",
       "    }\n",
       "</style>\n",
       "<table border=\"1\" class=\"dataframe\">\n",
       "  <thead>\n",
       "    <tr style=\"text-align: right;\">\n",
       "      <th></th>\n",
       "      <th>id</th>\n",
       "      <th>age</th>\n",
       "      <th>hypertension</th>\n",
       "      <th>heart_disease</th>\n",
       "      <th>ever_married</th>\n",
       "      <th>Residence_type</th>\n",
       "      <th>avg_glucose_level</th>\n",
       "      <th>bmi</th>\n",
       "      <th>stroke</th>\n",
       "      <th>Govt_job</th>\n",
       "      <th>...</th>\n",
       "      <th>Private</th>\n",
       "      <th>Self-employed</th>\n",
       "      <th>children</th>\n",
       "      <th>Female</th>\n",
       "      <th>Male</th>\n",
       "      <th>Other</th>\n",
       "      <th>Unknown</th>\n",
       "      <th>formerly smoked</th>\n",
       "      <th>never smoked</th>\n",
       "      <th>smokes</th>\n",
       "    </tr>\n",
       "  </thead>\n",
       "  <tbody>\n",
       "    <tr>\n",
       "      <th>0</th>\n",
       "      <td>9046</td>\n",
       "      <td>67.0</td>\n",
       "      <td>0</td>\n",
       "      <td>1</td>\n",
       "      <td>0</td>\n",
       "      <td>0</td>\n",
       "      <td>228.69</td>\n",
       "      <td>36.6</td>\n",
       "      <td>1</td>\n",
       "      <td>0</td>\n",
       "      <td>...</td>\n",
       "      <td>1</td>\n",
       "      <td>0</td>\n",
       "      <td>0</td>\n",
       "      <td>0</td>\n",
       "      <td>1</td>\n",
       "      <td>0</td>\n",
       "      <td>0</td>\n",
       "      <td>1</td>\n",
       "      <td>0</td>\n",
       "      <td>0</td>\n",
       "    </tr>\n",
       "    <tr>\n",
       "      <th>1</th>\n",
       "      <td>51676</td>\n",
       "      <td>61.0</td>\n",
       "      <td>0</td>\n",
       "      <td>0</td>\n",
       "      <td>0</td>\n",
       "      <td>1</td>\n",
       "      <td>202.21</td>\n",
       "      <td>28.1</td>\n",
       "      <td>1</td>\n",
       "      <td>0</td>\n",
       "      <td>...</td>\n",
       "      <td>0</td>\n",
       "      <td>1</td>\n",
       "      <td>0</td>\n",
       "      <td>1</td>\n",
       "      <td>0</td>\n",
       "      <td>0</td>\n",
       "      <td>0</td>\n",
       "      <td>0</td>\n",
       "      <td>1</td>\n",
       "      <td>0</td>\n",
       "    </tr>\n",
       "    <tr>\n",
       "      <th>2</th>\n",
       "      <td>31112</td>\n",
       "      <td>80.0</td>\n",
       "      <td>0</td>\n",
       "      <td>1</td>\n",
       "      <td>0</td>\n",
       "      <td>1</td>\n",
       "      <td>105.92</td>\n",
       "      <td>32.5</td>\n",
       "      <td>1</td>\n",
       "      <td>0</td>\n",
       "      <td>...</td>\n",
       "      <td>1</td>\n",
       "      <td>0</td>\n",
       "      <td>0</td>\n",
       "      <td>0</td>\n",
       "      <td>1</td>\n",
       "      <td>0</td>\n",
       "      <td>0</td>\n",
       "      <td>0</td>\n",
       "      <td>1</td>\n",
       "      <td>0</td>\n",
       "    </tr>\n",
       "    <tr>\n",
       "      <th>3</th>\n",
       "      <td>60182</td>\n",
       "      <td>49.0</td>\n",
       "      <td>0</td>\n",
       "      <td>0</td>\n",
       "      <td>0</td>\n",
       "      <td>0</td>\n",
       "      <td>171.23</td>\n",
       "      <td>34.4</td>\n",
       "      <td>1</td>\n",
       "      <td>0</td>\n",
       "      <td>...</td>\n",
       "      <td>1</td>\n",
       "      <td>0</td>\n",
       "      <td>0</td>\n",
       "      <td>1</td>\n",
       "      <td>0</td>\n",
       "      <td>0</td>\n",
       "      <td>0</td>\n",
       "      <td>0</td>\n",
       "      <td>0</td>\n",
       "      <td>1</td>\n",
       "    </tr>\n",
       "    <tr>\n",
       "      <th>4</th>\n",
       "      <td>1665</td>\n",
       "      <td>79.0</td>\n",
       "      <td>1</td>\n",
       "      <td>0</td>\n",
       "      <td>0</td>\n",
       "      <td>1</td>\n",
       "      <td>174.12</td>\n",
       "      <td>24.0</td>\n",
       "      <td>1</td>\n",
       "      <td>0</td>\n",
       "      <td>...</td>\n",
       "      <td>0</td>\n",
       "      <td>1</td>\n",
       "      <td>0</td>\n",
       "      <td>1</td>\n",
       "      <td>0</td>\n",
       "      <td>0</td>\n",
       "      <td>0</td>\n",
       "      <td>0</td>\n",
       "      <td>1</td>\n",
       "      <td>0</td>\n",
       "    </tr>\n",
       "    <tr>\n",
       "      <th>...</th>\n",
       "      <td>...</td>\n",
       "      <td>...</td>\n",
       "      <td>...</td>\n",
       "      <td>...</td>\n",
       "      <td>...</td>\n",
       "      <td>...</td>\n",
       "      <td>...</td>\n",
       "      <td>...</td>\n",
       "      <td>...</td>\n",
       "      <td>...</td>\n",
       "      <td>...</td>\n",
       "      <td>...</td>\n",
       "      <td>...</td>\n",
       "      <td>...</td>\n",
       "      <td>...</td>\n",
       "      <td>...</td>\n",
       "      <td>...</td>\n",
       "      <td>...</td>\n",
       "      <td>...</td>\n",
       "      <td>...</td>\n",
       "      <td>...</td>\n",
       "    </tr>\n",
       "    <tr>\n",
       "      <th>5105</th>\n",
       "      <td>18234</td>\n",
       "      <td>80.0</td>\n",
       "      <td>1</td>\n",
       "      <td>0</td>\n",
       "      <td>0</td>\n",
       "      <td>0</td>\n",
       "      <td>83.75</td>\n",
       "      <td>28.1</td>\n",
       "      <td>0</td>\n",
       "      <td>0</td>\n",
       "      <td>...</td>\n",
       "      <td>1</td>\n",
       "      <td>0</td>\n",
       "      <td>0</td>\n",
       "      <td>1</td>\n",
       "      <td>0</td>\n",
       "      <td>0</td>\n",
       "      <td>0</td>\n",
       "      <td>0</td>\n",
       "      <td>1</td>\n",
       "      <td>0</td>\n",
       "    </tr>\n",
       "    <tr>\n",
       "      <th>5106</th>\n",
       "      <td>44873</td>\n",
       "      <td>81.0</td>\n",
       "      <td>0</td>\n",
       "      <td>0</td>\n",
       "      <td>0</td>\n",
       "      <td>0</td>\n",
       "      <td>125.20</td>\n",
       "      <td>40.0</td>\n",
       "      <td>0</td>\n",
       "      <td>0</td>\n",
       "      <td>...</td>\n",
       "      <td>0</td>\n",
       "      <td>1</td>\n",
       "      <td>0</td>\n",
       "      <td>1</td>\n",
       "      <td>0</td>\n",
       "      <td>0</td>\n",
       "      <td>0</td>\n",
       "      <td>0</td>\n",
       "      <td>1</td>\n",
       "      <td>0</td>\n",
       "    </tr>\n",
       "    <tr>\n",
       "      <th>5107</th>\n",
       "      <td>19723</td>\n",
       "      <td>35.0</td>\n",
       "      <td>0</td>\n",
       "      <td>0</td>\n",
       "      <td>0</td>\n",
       "      <td>1</td>\n",
       "      <td>82.99</td>\n",
       "      <td>30.6</td>\n",
       "      <td>0</td>\n",
       "      <td>0</td>\n",
       "      <td>...</td>\n",
       "      <td>0</td>\n",
       "      <td>1</td>\n",
       "      <td>0</td>\n",
       "      <td>1</td>\n",
       "      <td>0</td>\n",
       "      <td>0</td>\n",
       "      <td>0</td>\n",
       "      <td>0</td>\n",
       "      <td>1</td>\n",
       "      <td>0</td>\n",
       "    </tr>\n",
       "    <tr>\n",
       "      <th>5108</th>\n",
       "      <td>37544</td>\n",
       "      <td>51.0</td>\n",
       "      <td>0</td>\n",
       "      <td>0</td>\n",
       "      <td>0</td>\n",
       "      <td>1</td>\n",
       "      <td>166.29</td>\n",
       "      <td>25.6</td>\n",
       "      <td>0</td>\n",
       "      <td>0</td>\n",
       "      <td>...</td>\n",
       "      <td>1</td>\n",
       "      <td>0</td>\n",
       "      <td>0</td>\n",
       "      <td>0</td>\n",
       "      <td>1</td>\n",
       "      <td>0</td>\n",
       "      <td>0</td>\n",
       "      <td>1</td>\n",
       "      <td>0</td>\n",
       "      <td>0</td>\n",
       "    </tr>\n",
       "    <tr>\n",
       "      <th>5109</th>\n",
       "      <td>44679</td>\n",
       "      <td>44.0</td>\n",
       "      <td>0</td>\n",
       "      <td>0</td>\n",
       "      <td>0</td>\n",
       "      <td>0</td>\n",
       "      <td>85.28</td>\n",
       "      <td>26.2</td>\n",
       "      <td>0</td>\n",
       "      <td>1</td>\n",
       "      <td>...</td>\n",
       "      <td>0</td>\n",
       "      <td>0</td>\n",
       "      <td>0</td>\n",
       "      <td>1</td>\n",
       "      <td>0</td>\n",
       "      <td>0</td>\n",
       "      <td>0</td>\n",
       "      <td>0</td>\n",
       "      <td>1</td>\n",
       "      <td>0</td>\n",
       "    </tr>\n",
       "  </tbody>\n",
       "</table>\n",
       "<p>5110 rows × 21 columns</p>\n",
       "</div>"
      ],
      "text/plain": [
       "         id   age  hypertension  heart_disease  ever_married  Residence_type  \\\n",
       "0      9046  67.0             0              1             0               0   \n",
       "1     51676  61.0             0              0             0               1   \n",
       "2     31112  80.0             0              1             0               1   \n",
       "3     60182  49.0             0              0             0               0   \n",
       "4      1665  79.0             1              0             0               1   \n",
       "...     ...   ...           ...            ...           ...             ...   \n",
       "5105  18234  80.0             1              0             0               0   \n",
       "5106  44873  81.0             0              0             0               0   \n",
       "5107  19723  35.0             0              0             0               1   \n",
       "5108  37544  51.0             0              0             0               1   \n",
       "5109  44679  44.0             0              0             0               0   \n",
       "\n",
       "      avg_glucose_level   bmi  stroke  Govt_job  ...  Private  Self-employed  \\\n",
       "0                228.69  36.6       1         0  ...        1              0   \n",
       "1                202.21  28.1       1         0  ...        0              1   \n",
       "2                105.92  32.5       1         0  ...        1              0   \n",
       "3                171.23  34.4       1         0  ...        1              0   \n",
       "4                174.12  24.0       1         0  ...        0              1   \n",
       "...                 ...   ...     ...       ...  ...      ...            ...   \n",
       "5105              83.75  28.1       0         0  ...        1              0   \n",
       "5106             125.20  40.0       0         0  ...        0              1   \n",
       "5107              82.99  30.6       0         0  ...        0              1   \n",
       "5108             166.29  25.6       0         0  ...        1              0   \n",
       "5109              85.28  26.2       0         1  ...        0              0   \n",
       "\n",
       "      children  Female  Male  Other  Unknown  formerly smoked  never smoked  \\\n",
       "0            0       0     1      0        0                1             0   \n",
       "1            0       1     0      0        0                0             1   \n",
       "2            0       0     1      0        0                0             1   \n",
       "3            0       1     0      0        0                0             0   \n",
       "4            0       1     0      0        0                0             1   \n",
       "...        ...     ...   ...    ...      ...              ...           ...   \n",
       "5105         0       1     0      0        0                0             1   \n",
       "5106         0       1     0      0        0                0             1   \n",
       "5107         0       1     0      0        0                0             1   \n",
       "5108         0       0     1      0        0                1             0   \n",
       "5109         0       1     0      0        0                0             1   \n",
       "\n",
       "      smokes  \n",
       "0          0  \n",
       "1          0  \n",
       "2          0  \n",
       "3          1  \n",
       "4          0  \n",
       "...      ...  \n",
       "5105       0  \n",
       "5106       0  \n",
       "5107       0  \n",
       "5108       0  \n",
       "5109       0  \n",
       "\n",
       "[5110 rows x 21 columns]"
      ]
     },
     "execution_count": 21,
     "metadata": {},
     "output_type": "execute_result"
    }
   ],
   "source": [
    "data_raw"
   ]
  },
  {
   "cell_type": "markdown",
   "id": "6da0a83e",
   "metadata": {},
   "source": [
    "Стандартизуем числовые признаки."
   ]
  },
  {
   "cell_type": "code",
   "execution_count": 22,
   "id": "8a574252",
   "metadata": {},
   "outputs": [],
   "source": [
    "data_stand = (data_raw - data_raw.mean(axis = 0))/data_raw.std(axis = 0)"
   ]
  },
  {
   "cell_type": "code",
   "execution_count": 23,
   "id": "5b682c29",
   "metadata": {},
   "outputs": [
    {
     "data": {
      "text/html": [
       "<div>\n",
       "<style scoped>\n",
       "    .dataframe tbody tr th:only-of-type {\n",
       "        vertical-align: middle;\n",
       "    }\n",
       "\n",
       "    .dataframe tbody tr th {\n",
       "        vertical-align: top;\n",
       "    }\n",
       "\n",
       "    .dataframe thead th {\n",
       "        text-align: right;\n",
       "    }\n",
       "</style>\n",
       "<table border=\"1\" class=\"dataframe\">\n",
       "  <thead>\n",
       "    <tr style=\"text-align: right;\">\n",
       "      <th></th>\n",
       "      <th>id</th>\n",
       "      <th>age</th>\n",
       "      <th>hypertension</th>\n",
       "      <th>heart_disease</th>\n",
       "      <th>ever_married</th>\n",
       "      <th>Residence_type</th>\n",
       "      <th>avg_glucose_level</th>\n",
       "      <th>bmi</th>\n",
       "      <th>stroke</th>\n",
       "      <th>Govt_job</th>\n",
       "      <th>...</th>\n",
       "      <th>Private</th>\n",
       "      <th>Self-employed</th>\n",
       "      <th>children</th>\n",
       "      <th>Female</th>\n",
       "      <th>Male</th>\n",
       "      <th>Other</th>\n",
       "      <th>Unknown</th>\n",
       "      <th>formerly smoked</th>\n",
       "      <th>never smoked</th>\n",
       "      <th>smokes</th>\n",
       "    </tr>\n",
       "  </thead>\n",
       "  <tbody>\n",
       "    <tr>\n",
       "      <th>0</th>\n",
       "      <td>-1.298185</td>\n",
       "      <td>1.051331</td>\n",
       "      <td>-0.328570</td>\n",
       "      <td>4.184622</td>\n",
       "      <td>-0.723813</td>\n",
       "      <td>-0.983983</td>\n",
       "      <td>2.706111</td>\n",
       "      <td>1.004988</td>\n",
       "      <td>4.417948</td>\n",
       "      <td>-0.384073</td>\n",
       "      <td>...</td>\n",
       "      <td>0.864212</td>\n",
       "      <td>-0.436838</td>\n",
       "      <td>-0.394074</td>\n",
       "      <td>-1.189394</td>\n",
       "      <td>1.189873</td>\n",
       "      <td>-0.013989</td>\n",
       "      <td>NaN</td>\n",
       "      <td>2.184737</td>\n",
       "      <td>-1.432539</td>\n",
       "      <td>-0.427271</td>\n",
       "    </tr>\n",
       "    <tr>\n",
       "      <th>1</th>\n",
       "      <td>0.716301</td>\n",
       "      <td>0.785993</td>\n",
       "      <td>-0.328570</td>\n",
       "      <td>-0.238923</td>\n",
       "      <td>-0.723813</td>\n",
       "      <td>1.016078</td>\n",
       "      <td>2.121351</td>\n",
       "      <td>-0.098971</td>\n",
       "      <td>4.417948</td>\n",
       "      <td>-0.384073</td>\n",
       "      <td>...</td>\n",
       "      <td>-1.156897</td>\n",
       "      <td>2.288731</td>\n",
       "      <td>-0.394074</td>\n",
       "      <td>0.840600</td>\n",
       "      <td>-0.840261</td>\n",
       "      <td>-0.013989</td>\n",
       "      <td>NaN</td>\n",
       "      <td>-0.457631</td>\n",
       "      <td>0.697925</td>\n",
       "      <td>-0.427271</td>\n",
       "    </tr>\n",
       "    <tr>\n",
       "      <th>2</th>\n",
       "      <td>-0.255453</td>\n",
       "      <td>1.626231</td>\n",
       "      <td>-0.328570</td>\n",
       "      <td>4.184622</td>\n",
       "      <td>-0.723813</td>\n",
       "      <td>1.016078</td>\n",
       "      <td>-0.005028</td>\n",
       "      <td>0.472490</td>\n",
       "      <td>4.417948</td>\n",
       "      <td>-0.384073</td>\n",
       "      <td>...</td>\n",
       "      <td>0.864212</td>\n",
       "      <td>-0.436838</td>\n",
       "      <td>-0.394074</td>\n",
       "      <td>-1.189394</td>\n",
       "      <td>1.189873</td>\n",
       "      <td>-0.013989</td>\n",
       "      <td>NaN</td>\n",
       "      <td>-0.457631</td>\n",
       "      <td>0.697925</td>\n",
       "      <td>-0.427271</td>\n",
       "    </tr>\n",
       "    <tr>\n",
       "      <th>3</th>\n",
       "      <td>1.118254</td>\n",
       "      <td>0.255317</td>\n",
       "      <td>-0.328570</td>\n",
       "      <td>-0.238923</td>\n",
       "      <td>-0.723813</td>\n",
       "      <td>-0.983983</td>\n",
       "      <td>1.437217</td>\n",
       "      <td>0.719257</td>\n",
       "      <td>4.417948</td>\n",
       "      <td>-0.384073</td>\n",
       "      <td>...</td>\n",
       "      <td>0.864212</td>\n",
       "      <td>-0.436838</td>\n",
       "      <td>-0.394074</td>\n",
       "      <td>0.840600</td>\n",
       "      <td>-0.840261</td>\n",
       "      <td>-0.013989</td>\n",
       "      <td>NaN</td>\n",
       "      <td>-0.457631</td>\n",
       "      <td>-1.432539</td>\n",
       "      <td>2.339975</td>\n",
       "    </tr>\n",
       "    <tr>\n",
       "      <th>4</th>\n",
       "      <td>-1.646975</td>\n",
       "      <td>1.582008</td>\n",
       "      <td>3.042899</td>\n",
       "      <td>-0.238923</td>\n",
       "      <td>-0.723813</td>\n",
       "      <td>1.016078</td>\n",
       "      <td>1.501038</td>\n",
       "      <td>-0.631469</td>\n",
       "      <td>4.417948</td>\n",
       "      <td>-0.384073</td>\n",
       "      <td>...</td>\n",
       "      <td>-1.156897</td>\n",
       "      <td>2.288731</td>\n",
       "      <td>-0.394074</td>\n",
       "      <td>0.840600</td>\n",
       "      <td>-0.840261</td>\n",
       "      <td>-0.013989</td>\n",
       "      <td>NaN</td>\n",
       "      <td>-0.457631</td>\n",
       "      <td>0.697925</td>\n",
       "      <td>-0.427271</td>\n",
       "    </tr>\n",
       "    <tr>\n",
       "      <th>...</th>\n",
       "      <td>...</td>\n",
       "      <td>...</td>\n",
       "      <td>...</td>\n",
       "      <td>...</td>\n",
       "      <td>...</td>\n",
       "      <td>...</td>\n",
       "      <td>...</td>\n",
       "      <td>...</td>\n",
       "      <td>...</td>\n",
       "      <td>...</td>\n",
       "      <td>...</td>\n",
       "      <td>...</td>\n",
       "      <td>...</td>\n",
       "      <td>...</td>\n",
       "      <td>...</td>\n",
       "      <td>...</td>\n",
       "      <td>...</td>\n",
       "      <td>...</td>\n",
       "      <td>...</td>\n",
       "      <td>...</td>\n",
       "      <td>...</td>\n",
       "    </tr>\n",
       "    <tr>\n",
       "      <th>5105</th>\n",
       "      <td>-0.864005</td>\n",
       "      <td>1.626231</td>\n",
       "      <td>3.042899</td>\n",
       "      <td>-0.238923</td>\n",
       "      <td>-0.723813</td>\n",
       "      <td>-0.983983</td>\n",
       "      <td>-0.494609</td>\n",
       "      <td>-0.098971</td>\n",
       "      <td>-0.226305</td>\n",
       "      <td>-0.384073</td>\n",
       "      <td>...</td>\n",
       "      <td>0.864212</td>\n",
       "      <td>-0.436838</td>\n",
       "      <td>-0.394074</td>\n",
       "      <td>0.840600</td>\n",
       "      <td>-0.840261</td>\n",
       "      <td>-0.013989</td>\n",
       "      <td>NaN</td>\n",
       "      <td>-0.457631</td>\n",
       "      <td>0.697925</td>\n",
       "      <td>-0.427271</td>\n",
       "    </tr>\n",
       "    <tr>\n",
       "      <th>5106</th>\n",
       "      <td>0.394825</td>\n",
       "      <td>1.670454</td>\n",
       "      <td>-0.328570</td>\n",
       "      <td>-0.238923</td>\n",
       "      <td>-0.723813</td>\n",
       "      <td>-0.983983</td>\n",
       "      <td>0.420734</td>\n",
       "      <td>1.446571</td>\n",
       "      <td>-0.226305</td>\n",
       "      <td>-0.384073</td>\n",
       "      <td>...</td>\n",
       "      <td>-1.156897</td>\n",
       "      <td>2.288731</td>\n",
       "      <td>-0.394074</td>\n",
       "      <td>0.840600</td>\n",
       "      <td>-0.840261</td>\n",
       "      <td>-0.013989</td>\n",
       "      <td>NaN</td>\n",
       "      <td>-0.457631</td>\n",
       "      <td>0.697925</td>\n",
       "      <td>-0.427271</td>\n",
       "    </tr>\n",
       "    <tr>\n",
       "      <th>5107</th>\n",
       "      <td>-0.793642</td>\n",
       "      <td>-0.363806</td>\n",
       "      <td>-0.328570</td>\n",
       "      <td>-0.238923</td>\n",
       "      <td>-0.723813</td>\n",
       "      <td>1.016078</td>\n",
       "      <td>-0.511393</td>\n",
       "      <td>0.225723</td>\n",
       "      <td>-0.226305</td>\n",
       "      <td>-0.384073</td>\n",
       "      <td>...</td>\n",
       "      <td>-1.156897</td>\n",
       "      <td>2.288731</td>\n",
       "      <td>-0.394074</td>\n",
       "      <td>0.840600</td>\n",
       "      <td>-0.840261</td>\n",
       "      <td>-0.013989</td>\n",
       "      <td>NaN</td>\n",
       "      <td>-0.457631</td>\n",
       "      <td>0.697925</td>\n",
       "      <td>-0.427271</td>\n",
       "    </tr>\n",
       "    <tr>\n",
       "      <th>5108</th>\n",
       "      <td>0.048492</td>\n",
       "      <td>0.343763</td>\n",
       "      <td>-0.328570</td>\n",
       "      <td>-0.238923</td>\n",
       "      <td>-0.723813</td>\n",
       "      <td>1.016078</td>\n",
       "      <td>1.328127</td>\n",
       "      <td>-0.423665</td>\n",
       "      <td>-0.226305</td>\n",
       "      <td>-0.384073</td>\n",
       "      <td>...</td>\n",
       "      <td>0.864212</td>\n",
       "      <td>-0.436838</td>\n",
       "      <td>-0.394074</td>\n",
       "      <td>-1.189394</td>\n",
       "      <td>1.189873</td>\n",
       "      <td>-0.013989</td>\n",
       "      <td>NaN</td>\n",
       "      <td>2.184737</td>\n",
       "      <td>-1.432539</td>\n",
       "      <td>-0.427271</td>\n",
       "    </tr>\n",
       "    <tr>\n",
       "      <th>5109</th>\n",
       "      <td>0.385657</td>\n",
       "      <td>0.034201</td>\n",
       "      <td>-0.328570</td>\n",
       "      <td>-0.238923</td>\n",
       "      <td>-0.723813</td>\n",
       "      <td>-0.983983</td>\n",
       "      <td>-0.460822</td>\n",
       "      <td>-0.345739</td>\n",
       "      <td>-0.226305</td>\n",
       "      <td>2.603162</td>\n",
       "      <td>...</td>\n",
       "      <td>-1.156897</td>\n",
       "      <td>-0.436838</td>\n",
       "      <td>-0.394074</td>\n",
       "      <td>0.840600</td>\n",
       "      <td>-0.840261</td>\n",
       "      <td>-0.013989</td>\n",
       "      <td>NaN</td>\n",
       "      <td>-0.457631</td>\n",
       "      <td>0.697925</td>\n",
       "      <td>-0.427271</td>\n",
       "    </tr>\n",
       "  </tbody>\n",
       "</table>\n",
       "<p>5110 rows × 21 columns</p>\n",
       "</div>"
      ],
      "text/plain": [
       "            id       age  hypertension  heart_disease  ever_married  \\\n",
       "0    -1.298185  1.051331     -0.328570       4.184622     -0.723813   \n",
       "1     0.716301  0.785993     -0.328570      -0.238923     -0.723813   \n",
       "2    -0.255453  1.626231     -0.328570       4.184622     -0.723813   \n",
       "3     1.118254  0.255317     -0.328570      -0.238923     -0.723813   \n",
       "4    -1.646975  1.582008      3.042899      -0.238923     -0.723813   \n",
       "...        ...       ...           ...            ...           ...   \n",
       "5105 -0.864005  1.626231      3.042899      -0.238923     -0.723813   \n",
       "5106  0.394825  1.670454     -0.328570      -0.238923     -0.723813   \n",
       "5107 -0.793642 -0.363806     -0.328570      -0.238923     -0.723813   \n",
       "5108  0.048492  0.343763     -0.328570      -0.238923     -0.723813   \n",
       "5109  0.385657  0.034201     -0.328570      -0.238923     -0.723813   \n",
       "\n",
       "      Residence_type  avg_glucose_level       bmi    stroke  Govt_job  ...  \\\n",
       "0          -0.983983           2.706111  1.004988  4.417948 -0.384073  ...   \n",
       "1           1.016078           2.121351 -0.098971  4.417948 -0.384073  ...   \n",
       "2           1.016078          -0.005028  0.472490  4.417948 -0.384073  ...   \n",
       "3          -0.983983           1.437217  0.719257  4.417948 -0.384073  ...   \n",
       "4           1.016078           1.501038 -0.631469  4.417948 -0.384073  ...   \n",
       "...              ...                ...       ...       ...       ...  ...   \n",
       "5105       -0.983983          -0.494609 -0.098971 -0.226305 -0.384073  ...   \n",
       "5106       -0.983983           0.420734  1.446571 -0.226305 -0.384073  ...   \n",
       "5107        1.016078          -0.511393  0.225723 -0.226305 -0.384073  ...   \n",
       "5108        1.016078           1.328127 -0.423665 -0.226305 -0.384073  ...   \n",
       "5109       -0.983983          -0.460822 -0.345739 -0.226305  2.603162  ...   \n",
       "\n",
       "       Private  Self-employed  children    Female      Male     Other  \\\n",
       "0     0.864212      -0.436838 -0.394074 -1.189394  1.189873 -0.013989   \n",
       "1    -1.156897       2.288731 -0.394074  0.840600 -0.840261 -0.013989   \n",
       "2     0.864212      -0.436838 -0.394074 -1.189394  1.189873 -0.013989   \n",
       "3     0.864212      -0.436838 -0.394074  0.840600 -0.840261 -0.013989   \n",
       "4    -1.156897       2.288731 -0.394074  0.840600 -0.840261 -0.013989   \n",
       "...        ...            ...       ...       ...       ...       ...   \n",
       "5105  0.864212      -0.436838 -0.394074  0.840600 -0.840261 -0.013989   \n",
       "5106 -1.156897       2.288731 -0.394074  0.840600 -0.840261 -0.013989   \n",
       "5107 -1.156897       2.288731 -0.394074  0.840600 -0.840261 -0.013989   \n",
       "5108  0.864212      -0.436838 -0.394074 -1.189394  1.189873 -0.013989   \n",
       "5109 -1.156897      -0.436838 -0.394074  0.840600 -0.840261 -0.013989   \n",
       "\n",
       "      Unknown  formerly smoked  never smoked    smokes  \n",
       "0         NaN         2.184737     -1.432539 -0.427271  \n",
       "1         NaN        -0.457631      0.697925 -0.427271  \n",
       "2         NaN        -0.457631      0.697925 -0.427271  \n",
       "3         NaN        -0.457631     -1.432539  2.339975  \n",
       "4         NaN        -0.457631      0.697925 -0.427271  \n",
       "...       ...              ...           ...       ...  \n",
       "5105      NaN        -0.457631      0.697925 -0.427271  \n",
       "5106      NaN        -0.457631      0.697925 -0.427271  \n",
       "5107      NaN        -0.457631      0.697925 -0.427271  \n",
       "5108      NaN         2.184737     -1.432539 -0.427271  \n",
       "5109      NaN        -0.457631      0.697925 -0.427271  \n",
       "\n",
       "[5110 rows x 21 columns]"
      ]
     },
     "execution_count": 23,
     "metadata": {},
     "output_type": "execute_result"
    }
   ],
   "source": [
    "data_stand"
   ]
  },
  {
   "cell_type": "markdown",
   "id": "0fe7082e",
   "metadata": {},
   "source": [
    "## Отбор признаков и разбиение объектов на обучающую и тестовую выборки"
   ]
  },
  {
   "cell_type": "markdown",
   "id": "19449429",
   "metadata": {},
   "source": [
    "Для предсказания инсульта будем использовать все признаки, кроме идентификатора. Также исключим столбец значения статуса курения \"неизвестно\", которое было присвоено пропущенным значениям."
   ]
  },
  {
   "cell_type": "code",
   "execution_count": 24,
   "id": "547a5e80",
   "metadata": {},
   "outputs": [],
   "source": [
    "X = data_stand.drop(['stroke', 'id', 'Unknown'], axis=1)\n",
    "y = data_raw['stroke']"
   ]
  },
  {
   "cell_type": "code",
   "execution_count": 25,
   "id": "be7dcc0e",
   "metadata": {},
   "outputs": [
    {
     "data": {
      "text/html": [
       "<div>\n",
       "<style scoped>\n",
       "    .dataframe tbody tr th:only-of-type {\n",
       "        vertical-align: middle;\n",
       "    }\n",
       "\n",
       "    .dataframe tbody tr th {\n",
       "        vertical-align: top;\n",
       "    }\n",
       "\n",
       "    .dataframe thead th {\n",
       "        text-align: right;\n",
       "    }\n",
       "</style>\n",
       "<table border=\"1\" class=\"dataframe\">\n",
       "  <thead>\n",
       "    <tr style=\"text-align: right;\">\n",
       "      <th></th>\n",
       "      <th>age</th>\n",
       "      <th>hypertension</th>\n",
       "      <th>heart_disease</th>\n",
       "      <th>ever_married</th>\n",
       "      <th>Residence_type</th>\n",
       "      <th>avg_glucose_level</th>\n",
       "      <th>bmi</th>\n",
       "      <th>Govt_job</th>\n",
       "      <th>Never_worked</th>\n",
       "      <th>Private</th>\n",
       "      <th>Self-employed</th>\n",
       "      <th>children</th>\n",
       "      <th>Female</th>\n",
       "      <th>Male</th>\n",
       "      <th>Other</th>\n",
       "      <th>formerly smoked</th>\n",
       "      <th>never smoked</th>\n",
       "      <th>smokes</th>\n",
       "    </tr>\n",
       "  </thead>\n",
       "  <tbody>\n",
       "    <tr>\n",
       "      <th>0</th>\n",
       "      <td>1.051331</td>\n",
       "      <td>-0.328570</td>\n",
       "      <td>4.184622</td>\n",
       "      <td>-0.723813</td>\n",
       "      <td>-0.983983</td>\n",
       "      <td>2.706111</td>\n",
       "      <td>1.004988</td>\n",
       "      <td>-0.384073</td>\n",
       "      <td>-0.06575</td>\n",
       "      <td>0.864212</td>\n",
       "      <td>-0.436838</td>\n",
       "      <td>-0.394074</td>\n",
       "      <td>-1.189394</td>\n",
       "      <td>1.189873</td>\n",
       "      <td>-0.013989</td>\n",
       "      <td>2.184737</td>\n",
       "      <td>-1.432539</td>\n",
       "      <td>-0.427271</td>\n",
       "    </tr>\n",
       "    <tr>\n",
       "      <th>1</th>\n",
       "      <td>0.785993</td>\n",
       "      <td>-0.328570</td>\n",
       "      <td>-0.238923</td>\n",
       "      <td>-0.723813</td>\n",
       "      <td>1.016078</td>\n",
       "      <td>2.121351</td>\n",
       "      <td>-0.098971</td>\n",
       "      <td>-0.384073</td>\n",
       "      <td>-0.06575</td>\n",
       "      <td>-1.156897</td>\n",
       "      <td>2.288731</td>\n",
       "      <td>-0.394074</td>\n",
       "      <td>0.840600</td>\n",
       "      <td>-0.840261</td>\n",
       "      <td>-0.013989</td>\n",
       "      <td>-0.457631</td>\n",
       "      <td>0.697925</td>\n",
       "      <td>-0.427271</td>\n",
       "    </tr>\n",
       "    <tr>\n",
       "      <th>2</th>\n",
       "      <td>1.626231</td>\n",
       "      <td>-0.328570</td>\n",
       "      <td>4.184622</td>\n",
       "      <td>-0.723813</td>\n",
       "      <td>1.016078</td>\n",
       "      <td>-0.005028</td>\n",
       "      <td>0.472490</td>\n",
       "      <td>-0.384073</td>\n",
       "      <td>-0.06575</td>\n",
       "      <td>0.864212</td>\n",
       "      <td>-0.436838</td>\n",
       "      <td>-0.394074</td>\n",
       "      <td>-1.189394</td>\n",
       "      <td>1.189873</td>\n",
       "      <td>-0.013989</td>\n",
       "      <td>-0.457631</td>\n",
       "      <td>0.697925</td>\n",
       "      <td>-0.427271</td>\n",
       "    </tr>\n",
       "    <tr>\n",
       "      <th>3</th>\n",
       "      <td>0.255317</td>\n",
       "      <td>-0.328570</td>\n",
       "      <td>-0.238923</td>\n",
       "      <td>-0.723813</td>\n",
       "      <td>-0.983983</td>\n",
       "      <td>1.437217</td>\n",
       "      <td>0.719257</td>\n",
       "      <td>-0.384073</td>\n",
       "      <td>-0.06575</td>\n",
       "      <td>0.864212</td>\n",
       "      <td>-0.436838</td>\n",
       "      <td>-0.394074</td>\n",
       "      <td>0.840600</td>\n",
       "      <td>-0.840261</td>\n",
       "      <td>-0.013989</td>\n",
       "      <td>-0.457631</td>\n",
       "      <td>-1.432539</td>\n",
       "      <td>2.339975</td>\n",
       "    </tr>\n",
       "    <tr>\n",
       "      <th>4</th>\n",
       "      <td>1.582008</td>\n",
       "      <td>3.042899</td>\n",
       "      <td>-0.238923</td>\n",
       "      <td>-0.723813</td>\n",
       "      <td>1.016078</td>\n",
       "      <td>1.501038</td>\n",
       "      <td>-0.631469</td>\n",
       "      <td>-0.384073</td>\n",
       "      <td>-0.06575</td>\n",
       "      <td>-1.156897</td>\n",
       "      <td>2.288731</td>\n",
       "      <td>-0.394074</td>\n",
       "      <td>0.840600</td>\n",
       "      <td>-0.840261</td>\n",
       "      <td>-0.013989</td>\n",
       "      <td>-0.457631</td>\n",
       "      <td>0.697925</td>\n",
       "      <td>-0.427271</td>\n",
       "    </tr>\n",
       "    <tr>\n",
       "      <th>...</th>\n",
       "      <td>...</td>\n",
       "      <td>...</td>\n",
       "      <td>...</td>\n",
       "      <td>...</td>\n",
       "      <td>...</td>\n",
       "      <td>...</td>\n",
       "      <td>...</td>\n",
       "      <td>...</td>\n",
       "      <td>...</td>\n",
       "      <td>...</td>\n",
       "      <td>...</td>\n",
       "      <td>...</td>\n",
       "      <td>...</td>\n",
       "      <td>...</td>\n",
       "      <td>...</td>\n",
       "      <td>...</td>\n",
       "      <td>...</td>\n",
       "      <td>...</td>\n",
       "    </tr>\n",
       "    <tr>\n",
       "      <th>5105</th>\n",
       "      <td>1.626231</td>\n",
       "      <td>3.042899</td>\n",
       "      <td>-0.238923</td>\n",
       "      <td>-0.723813</td>\n",
       "      <td>-0.983983</td>\n",
       "      <td>-0.494609</td>\n",
       "      <td>-0.098971</td>\n",
       "      <td>-0.384073</td>\n",
       "      <td>-0.06575</td>\n",
       "      <td>0.864212</td>\n",
       "      <td>-0.436838</td>\n",
       "      <td>-0.394074</td>\n",
       "      <td>0.840600</td>\n",
       "      <td>-0.840261</td>\n",
       "      <td>-0.013989</td>\n",
       "      <td>-0.457631</td>\n",
       "      <td>0.697925</td>\n",
       "      <td>-0.427271</td>\n",
       "    </tr>\n",
       "    <tr>\n",
       "      <th>5106</th>\n",
       "      <td>1.670454</td>\n",
       "      <td>-0.328570</td>\n",
       "      <td>-0.238923</td>\n",
       "      <td>-0.723813</td>\n",
       "      <td>-0.983983</td>\n",
       "      <td>0.420734</td>\n",
       "      <td>1.446571</td>\n",
       "      <td>-0.384073</td>\n",
       "      <td>-0.06575</td>\n",
       "      <td>-1.156897</td>\n",
       "      <td>2.288731</td>\n",
       "      <td>-0.394074</td>\n",
       "      <td>0.840600</td>\n",
       "      <td>-0.840261</td>\n",
       "      <td>-0.013989</td>\n",
       "      <td>-0.457631</td>\n",
       "      <td>0.697925</td>\n",
       "      <td>-0.427271</td>\n",
       "    </tr>\n",
       "    <tr>\n",
       "      <th>5107</th>\n",
       "      <td>-0.363806</td>\n",
       "      <td>-0.328570</td>\n",
       "      <td>-0.238923</td>\n",
       "      <td>-0.723813</td>\n",
       "      <td>1.016078</td>\n",
       "      <td>-0.511393</td>\n",
       "      <td>0.225723</td>\n",
       "      <td>-0.384073</td>\n",
       "      <td>-0.06575</td>\n",
       "      <td>-1.156897</td>\n",
       "      <td>2.288731</td>\n",
       "      <td>-0.394074</td>\n",
       "      <td>0.840600</td>\n",
       "      <td>-0.840261</td>\n",
       "      <td>-0.013989</td>\n",
       "      <td>-0.457631</td>\n",
       "      <td>0.697925</td>\n",
       "      <td>-0.427271</td>\n",
       "    </tr>\n",
       "    <tr>\n",
       "      <th>5108</th>\n",
       "      <td>0.343763</td>\n",
       "      <td>-0.328570</td>\n",
       "      <td>-0.238923</td>\n",
       "      <td>-0.723813</td>\n",
       "      <td>1.016078</td>\n",
       "      <td>1.328127</td>\n",
       "      <td>-0.423665</td>\n",
       "      <td>-0.384073</td>\n",
       "      <td>-0.06575</td>\n",
       "      <td>0.864212</td>\n",
       "      <td>-0.436838</td>\n",
       "      <td>-0.394074</td>\n",
       "      <td>-1.189394</td>\n",
       "      <td>1.189873</td>\n",
       "      <td>-0.013989</td>\n",
       "      <td>2.184737</td>\n",
       "      <td>-1.432539</td>\n",
       "      <td>-0.427271</td>\n",
       "    </tr>\n",
       "    <tr>\n",
       "      <th>5109</th>\n",
       "      <td>0.034201</td>\n",
       "      <td>-0.328570</td>\n",
       "      <td>-0.238923</td>\n",
       "      <td>-0.723813</td>\n",
       "      <td>-0.983983</td>\n",
       "      <td>-0.460822</td>\n",
       "      <td>-0.345739</td>\n",
       "      <td>2.603162</td>\n",
       "      <td>-0.06575</td>\n",
       "      <td>-1.156897</td>\n",
       "      <td>-0.436838</td>\n",
       "      <td>-0.394074</td>\n",
       "      <td>0.840600</td>\n",
       "      <td>-0.840261</td>\n",
       "      <td>-0.013989</td>\n",
       "      <td>-0.457631</td>\n",
       "      <td>0.697925</td>\n",
       "      <td>-0.427271</td>\n",
       "    </tr>\n",
       "  </tbody>\n",
       "</table>\n",
       "<p>5110 rows × 18 columns</p>\n",
       "</div>"
      ],
      "text/plain": [
       "           age  hypertension  heart_disease  ever_married  Residence_type  \\\n",
       "0     1.051331     -0.328570       4.184622     -0.723813       -0.983983   \n",
       "1     0.785993     -0.328570      -0.238923     -0.723813        1.016078   \n",
       "2     1.626231     -0.328570       4.184622     -0.723813        1.016078   \n",
       "3     0.255317     -0.328570      -0.238923     -0.723813       -0.983983   \n",
       "4     1.582008      3.042899      -0.238923     -0.723813        1.016078   \n",
       "...        ...           ...            ...           ...             ...   \n",
       "5105  1.626231      3.042899      -0.238923     -0.723813       -0.983983   \n",
       "5106  1.670454     -0.328570      -0.238923     -0.723813       -0.983983   \n",
       "5107 -0.363806     -0.328570      -0.238923     -0.723813        1.016078   \n",
       "5108  0.343763     -0.328570      -0.238923     -0.723813        1.016078   \n",
       "5109  0.034201     -0.328570      -0.238923     -0.723813       -0.983983   \n",
       "\n",
       "      avg_glucose_level       bmi  Govt_job  Never_worked   Private  \\\n",
       "0              2.706111  1.004988 -0.384073      -0.06575  0.864212   \n",
       "1              2.121351 -0.098971 -0.384073      -0.06575 -1.156897   \n",
       "2             -0.005028  0.472490 -0.384073      -0.06575  0.864212   \n",
       "3              1.437217  0.719257 -0.384073      -0.06575  0.864212   \n",
       "4              1.501038 -0.631469 -0.384073      -0.06575 -1.156897   \n",
       "...                 ...       ...       ...           ...       ...   \n",
       "5105          -0.494609 -0.098971 -0.384073      -0.06575  0.864212   \n",
       "5106           0.420734  1.446571 -0.384073      -0.06575 -1.156897   \n",
       "5107          -0.511393  0.225723 -0.384073      -0.06575 -1.156897   \n",
       "5108           1.328127 -0.423665 -0.384073      -0.06575  0.864212   \n",
       "5109          -0.460822 -0.345739  2.603162      -0.06575 -1.156897   \n",
       "\n",
       "      Self-employed  children    Female      Male     Other  formerly smoked  \\\n",
       "0         -0.436838 -0.394074 -1.189394  1.189873 -0.013989         2.184737   \n",
       "1          2.288731 -0.394074  0.840600 -0.840261 -0.013989        -0.457631   \n",
       "2         -0.436838 -0.394074 -1.189394  1.189873 -0.013989        -0.457631   \n",
       "3         -0.436838 -0.394074  0.840600 -0.840261 -0.013989        -0.457631   \n",
       "4          2.288731 -0.394074  0.840600 -0.840261 -0.013989        -0.457631   \n",
       "...             ...       ...       ...       ...       ...              ...   \n",
       "5105      -0.436838 -0.394074  0.840600 -0.840261 -0.013989        -0.457631   \n",
       "5106       2.288731 -0.394074  0.840600 -0.840261 -0.013989        -0.457631   \n",
       "5107       2.288731 -0.394074  0.840600 -0.840261 -0.013989        -0.457631   \n",
       "5108      -0.436838 -0.394074 -1.189394  1.189873 -0.013989         2.184737   \n",
       "5109      -0.436838 -0.394074  0.840600 -0.840261 -0.013989        -0.457631   \n",
       "\n",
       "      never smoked    smokes  \n",
       "0        -1.432539 -0.427271  \n",
       "1         0.697925 -0.427271  \n",
       "2         0.697925 -0.427271  \n",
       "3        -1.432539  2.339975  \n",
       "4         0.697925 -0.427271  \n",
       "...            ...       ...  \n",
       "5105      0.697925 -0.427271  \n",
       "5106      0.697925 -0.427271  \n",
       "5107      0.697925 -0.427271  \n",
       "5108     -1.432539 -0.427271  \n",
       "5109      0.697925 -0.427271  \n",
       "\n",
       "[5110 rows x 18 columns]"
      ]
     },
     "execution_count": 25,
     "metadata": {},
     "output_type": "execute_result"
    }
   ],
   "source": [
    "X"
   ]
  },
  {
   "cell_type": "code",
   "execution_count": 26,
   "id": "ef9de863",
   "metadata": {},
   "outputs": [
    {
     "data": {
      "text/plain": [
       "0       1\n",
       "1       1\n",
       "2       1\n",
       "3       1\n",
       "4       1\n",
       "       ..\n",
       "5105    0\n",
       "5106    0\n",
       "5107    0\n",
       "5108    0\n",
       "5109    0\n",
       "Name: stroke, Length: 5110, dtype: int64"
      ]
     },
     "execution_count": 26,
     "metadata": {},
     "output_type": "execute_result"
    }
   ],
   "source": [
    "y"
   ]
  },
  {
   "cell_type": "markdown",
   "id": "850e4a46",
   "metadata": {},
   "source": [
    "На этом этапе необходимо увеличить число объектов второго класса так, чтобы результат обучения не пострадал. Для этого воспользуемся библиотекой для обработки несбалансированных данных imblearn и его методом RandomOverSampler. Он создаст лишние объекты второго класса на основе базовой подборки."
   ]
  },
  {
   "cell_type": "code",
   "execution_count": 27,
   "id": "2b218955",
   "metadata": {},
   "outputs": [],
   "source": [
    "ros = RandomOverSampler(sampling_strategy={1:4861, 0:4861}, random_state=33)"
   ]
  },
  {
   "cell_type": "code",
   "execution_count": 28,
   "id": "1208a421",
   "metadata": {},
   "outputs": [],
   "source": [
    "X, y = ros.fit_resample(X, y)"
   ]
  },
  {
   "cell_type": "code",
   "execution_count": 29,
   "id": "7625dd23",
   "metadata": {},
   "outputs": [
    {
     "data": {
      "text/plain": [
       "0    4861\n",
       "1    4861\n",
       "Name: stroke, dtype: int64"
      ]
     },
     "execution_count": 29,
     "metadata": {},
     "output_type": "execute_result"
    }
   ],
   "source": [
    "y.value_counts()"
   ]
  },
  {
   "cell_type": "markdown",
   "id": "e8c92197",
   "metadata": {},
   "source": [
    "Теперь число объектов, принадлежащих второму классу, сопоставимо с числом объектов, принадлежащих первому классу."
   ]
  },
  {
   "cell_type": "code",
   "execution_count": 30,
   "id": "3c81a869",
   "metadata": {},
   "outputs": [
    {
     "data": {
      "text/plain": [
       "(7291, 2431)"
      ]
     },
     "execution_count": 30,
     "metadata": {},
     "output_type": "execute_result"
    }
   ],
   "source": [
    "X_train, X_test, y_train, y_test = train_test_split(X, y, test_size = 0.25, random_state = 33)\n",
    "\n",
    "N_train, _ = X_train.shape \n",
    "N_test,  _ = X_test.shape \n",
    "\n",
    "N_train, N_test"
   ]
  },
  {
   "cell_type": "markdown",
   "id": "2e6b5dc4",
   "metadata": {},
   "source": [
    "## Обучение полносвязной нейронной сети\n",
    "### 1 скрытый слой:"
   ]
  },
  {
   "cell_type": "markdown",
   "id": "5f813aba",
   "metadata": {},
   "source": [
    "Датасет относительно небольшой, поэтому будем использовать решатель lbfgs."
   ]
  },
  {
   "cell_type": "code",
   "execution_count": 31,
   "id": "6bf6361d",
   "metadata": {},
   "outputs": [],
   "source": [
    "mlp_model1 = MLPClassifier(activation = \"logistic\", solver=\"lbfgs\", \n",
    "                           hidden_layer_sizes = (100, ), max_iter=2000, random_state = 33)"
   ]
  },
  {
   "cell_type": "code",
   "execution_count": 34,
   "id": "236a0261",
   "metadata": {},
   "outputs": [
    {
     "data": {
      "text/plain": [
       "MLPClassifier(activation='logistic', max_iter=2000, random_state=33,\n",
       "              solver='lbfgs')"
      ]
     },
     "execution_count": 34,
     "metadata": {},
     "output_type": "execute_result"
    }
   ],
   "source": [
    "mlp_model1.fit(X_train, y_train)"
   ]
  },
  {
   "cell_type": "markdown",
   "id": "db29e5bc",
   "metadata": {},
   "source": [
    "#### Ошибка на тестовой выборке:"
   ]
  },
  {
   "cell_type": "code",
   "execution_count": 35,
   "id": "e4be613e",
   "metadata": {},
   "outputs": [
    {
     "data": {
      "text/plain": [
       "0.0374331550802139"
      ]
     },
     "execution_count": 35,
     "metadata": {},
     "output_type": "execute_result"
    }
   ],
   "source": [
    "y_test_predict1 = mlp_model1.predict(X_test)\n",
    "err_test1 = np.mean(y_test != y_test_predict1)\n",
    "err_test1"
   ]
  },
  {
   "cell_type": "markdown",
   "id": "55c41d72",
   "metadata": {},
   "source": [
    "#### Ошибка на обучающей выборке:"
   ]
  },
  {
   "cell_type": "code",
   "execution_count": 36,
   "id": "cb360932",
   "metadata": {},
   "outputs": [
    {
     "data": {
      "text/plain": [
       "0.0001371553970648745"
      ]
     },
     "execution_count": 36,
     "metadata": {},
     "output_type": "execute_result"
    }
   ],
   "source": [
    "y_train_predict1 = mlp_model1.predict(X_train)\n",
    "err_train1 = np.mean(y_train != y_train_predict1)\n",
    "err_train1"
   ]
  },
  {
   "cell_type": "markdown",
   "id": "a9108dde",
   "metadata": {},
   "source": [
    "### 2 скрытых слоя:"
   ]
  },
  {
   "cell_type": "code",
   "execution_count": 37,
   "id": "f7f231a7",
   "metadata": {},
   "outputs": [],
   "source": [
    "mlp_model2 = MLPClassifier(activation = \"logistic\", solver=\"lbfgs\",\n",
    "                           hidden_layer_sizes = (100, 50), max_iter = 2000, random_state = 33)"
   ]
  },
  {
   "cell_type": "code",
   "execution_count": 38,
   "id": "36d58987",
   "metadata": {},
   "outputs": [
    {
     "data": {
      "text/plain": [
       "MLPClassifier(activation='logistic', hidden_layer_sizes=(100, 50),\n",
       "              max_iter=2000, random_state=33, solver='lbfgs')"
      ]
     },
     "execution_count": 38,
     "metadata": {},
     "output_type": "execute_result"
    }
   ],
   "source": [
    "mlp_model2.fit(X_train, y_train)"
   ]
  },
  {
   "cell_type": "markdown",
   "id": "5e5a4b74",
   "metadata": {},
   "source": [
    "#### Ошибка на тестовой выборке:"
   ]
  },
  {
   "cell_type": "code",
   "execution_count": 39,
   "id": "074b526c",
   "metadata": {},
   "outputs": [
    {
     "data": {
      "text/plain": [
       "0.0337309749074455"
      ]
     },
     "execution_count": 39,
     "metadata": {},
     "output_type": "execute_result"
    }
   ],
   "source": [
    "y_test_predict2 = mlp_model2.predict(X_test)\n",
    "err_test2 = np.mean(y_test != y_test_predict2)\n",
    "err_test2"
   ]
  },
  {
   "cell_type": "markdown",
   "id": "2605e0f1",
   "metadata": {},
   "source": [
    "#### Ошибка на обучающей выборке:"
   ]
  },
  {
   "cell_type": "code",
   "execution_count": 40,
   "id": "3bfbda36",
   "metadata": {},
   "outputs": [
    {
     "data": {
      "text/plain": [
       "0.000548621588259498"
      ]
     },
     "execution_count": 40,
     "metadata": {},
     "output_type": "execute_result"
    }
   ],
   "source": [
    "y_train_predict2 = mlp_model2.predict(X_train)\n",
    "err_train2 = np.mean(y_train != y_train_predict2)\n",
    "err_train2"
   ]
  },
  {
   "cell_type": "markdown",
   "id": "fd0090b7",
   "metadata": {},
   "source": [
    "Со вторым слоем ошибка на обучающей выборке немного больше, поэтому будем рассматривать только один слой."
   ]
  },
  {
   "cell_type": "markdown",
   "id": "503eaf40",
   "metadata": {},
   "source": [
    "## Подбор гиперпараметров"
   ]
  },
  {
   "cell_type": "markdown",
   "id": "a158e451",
   "metadata": {},
   "source": [
    "### Подберём параметр alpha для однослойной нейронной сети."
   ]
  },
  {
   "cell_type": "code",
   "execution_count": 41,
   "id": "0a05aca5",
   "metadata": {},
   "outputs": [],
   "source": [
    "alpha_arr = np.logspace(-10, 2, 21)\n",
    "test_err = []\n",
    "train_err = []\n",
    "train_acc = []\n",
    "test_acc = []\n",
    "\n",
    "for alpha in alpha_arr:\n",
    "    mlp_model = MLPClassifier(alpha = alpha, hidden_layer_sizes = (100,),\n",
    "                              activation = 'logistic', solver=\"lbfgs\", max_iter = 2000, random_state = 33)\n",
    "    mlp_model.fit(X_train, y_train)\n",
    "\n",
    "    y_train_pred = mlp_model.predict(X_train)\n",
    "    y_test_pred = mlp_model.predict(X_test)\n",
    "    \n",
    "    train_err.append(np.mean(y_train != y_train_pred))\n",
    "    test_err.append(np.mean(y_test != y_test_pred))\n",
    "    train_acc.append(accuracy_score(y_train, y_train_pred))\n",
    "    test_acc.append(accuracy_score(y_test, y_test_pred))"
   ]
  },
  {
   "cell_type": "code",
   "execution_count": 42,
   "id": "0f874ac4",
   "metadata": {},
   "outputs": [
    {
     "data": {
      "text/plain": [
       "<matplotlib.legend.Legend at 0x16b570203d0>"
      ]
     },
     "execution_count": 42,
     "metadata": {},
     "output_type": "execute_result"
    },
    {
     "data": {
      "image/png": "[encoded data removed]",
      "text/plain": [
       "<Figure size 432x288 with 1 Axes>"
      ]
     },
     "metadata": {
      "needs_background": "light"
     },
     "output_type": "display_data"
    }
   ],
   "source": [
    "plt.semilogx(alpha_arr, train_err, 'b-o', label = 'train')\n",
    "plt.semilogx(alpha_arr, test_err, 'r-o', label = 'test')\n",
    "plt.xlim([np.min(alpha_arr), np.max(alpha_arr)])\n",
    "plt.title('Error vs. alpha')\n",
    "plt.xlabel('alpha')\n",
    "plt.ylabel('error')\n",
    "plt.legend()"
   ]
  },
  {
   "cell_type": "code",
   "execution_count": 43,
   "id": "a67a5281",
   "metadata": {},
   "outputs": [
    {
     "data": {
      "text/plain": [
       "<matplotlib.legend.Legend at 0x16b571c46a0>"
      ]
     },
     "execution_count": 43,
     "metadata": {},
     "output_type": "execute_result"
    },
    {
     "data": {
      "image/png": "[encoded data removed]",
      "text/plain": [
       "<Figure size 432x288 with 1 Axes>"
      ]
     },
     "metadata": {
      "needs_background": "light"
     },
     "output_type": "display_data"
    }
   ],
   "source": [
    "plt.semilogx(alpha_arr, train_acc, 'r-o', label = 'train')\n",
    "plt.semilogx(alpha_arr, test_acc, 'b-o', label = 'test')\n",
    "plt.xlim([np.min(alpha_arr), np.max(alpha_arr)])\n",
    "plt.title('Accuracy vs. alpha')\n",
    "plt.xlabel('alpha')\n",
    "plt.ylabel('Accuracy')\n",
    "plt.legend()"
   ]
  },
  {
   "cell_type": "markdown",
   "id": "8c3bce25",
   "metadata": {},
   "source": [
    "Минимальная ошибка на обучающей выборке и минимальная ошибка на тестовой выборке равны:"
   ]
  },
  {
   "cell_type": "code",
   "execution_count": 44,
   "id": "abd60a3e",
   "metadata": {},
   "outputs": [
    {
     "name": "stdout",
     "output_type": "stream",
     "text": [
      "0.0 0.0337309749074455\n"
     ]
    }
   ],
   "source": [
    "min_train_err = np.min(train_err)\n",
    "min_test_err = np.min(test_err)\n",
    "print(min_train_err, min_test_err)"
   ]
  },
  {
   "cell_type": "code",
   "execution_count": 45,
   "id": "d70180ed",
   "metadata": {},
   "outputs": [
    {
     "name": "stdout",
     "output_type": "stream",
     "text": [
      "[3.98107171e-07]\n"
     ]
    }
   ],
   "source": [
    "alpha_opt = alpha_arr[test_err == min_test_err]\n",
    "print(alpha_opt)"
   ]
  },
  {
   "cell_type": "code",
   "execution_count": 46,
   "id": "b0144457",
   "metadata": {},
   "outputs": [],
   "source": [
    "alpha_opt = alpha_opt[0]"
   ]
  },
  {
   "cell_type": "markdown",
   "id": "7a3fadab",
   "metadata": {},
   "source": [
    "Оптимальное alpha = 3.98107171e-07"
   ]
  },
  {
   "cell_type": "markdown",
   "id": "7f04b5f5",
   "metadata": {},
   "source": [
    "### Подберём число нейронов в однослойной нейронной сети"
   ]
  },
  {
   "cell_type": "code",
   "execution_count": 47,
   "id": "2234d919",
   "metadata": {},
   "outputs": [],
   "source": [
    "neurons_count_arr = np.array([i for i in range(2, 100+1)])\n",
    "test_err = []\n",
    "train_err = []\n",
    "train_acc = []\n",
    "test_acc = []\n",
    "\n",
    "for neurons_count in neurons_count_arr:\n",
    "    mlp_model = MLPClassifier(alpha=alpha_opt,\n",
    "                              hidden_layer_sizes = (neurons_count,),\n",
    "                              solver = 'lbfgs', \n",
    "                              activation = 'logistic',\n",
    "                              max_iter=2000,\n",
    "                              random_state = 33)\n",
    "    mlp_model.fit(X_train, y_train)\n",
    "\n",
    "    y_train_pred = mlp_model.predict(X_train)\n",
    "    y_test_pred = mlp_model.predict(X_test)\n",
    "    \n",
    "    train_err.append(np.mean(y_train != y_train_pred))\n",
    "    test_err.append(np.mean(y_test != y_test_pred))\n",
    "    train_acc.append(accuracy_score(y_train, y_train_pred))\n",
    "    test_acc.append(accuracy_score(y_test, y_test_pred))"
   ]
  },
  {
   "cell_type": "code",
   "execution_count": 48,
   "id": "f291b41d",
   "metadata": {},
   "outputs": [
    {
     "data": {
      "text/plain": [
       "<matplotlib.legend.Legend at 0x16b572b5a30>"
      ]
     },
     "execution_count": 48,
     "metadata": {},
     "output_type": "execute_result"
    },
    {
     "data": {
      "image/png": "[encoded data removed]",
      "text/plain": [
       "<Figure size 432x288 with 1 Axes>"
      ]
     },
     "metadata": {
      "needs_background": "light"
     },
     "output_type": "display_data"
    }
   ],
   "source": [
    "plt.semilogx(neurons_count_arr, train_err, 'b-o', label = 'train')\n",
    "plt.semilogx(neurons_count_arr, test_err, 'r-o', label = 'test')\n",
    "plt.xlim([np.min(neurons_count_arr), np.max(neurons_count_arr)])\n",
    "plt.title('Error vs. neurons count')\n",
    "plt.xlabel('neurons count')\n",
    "plt.ylabel('error')\n",
    "plt.legend()"
   ]
  },
  {
   "cell_type": "code",
   "execution_count": 49,
   "id": "35428a89",
   "metadata": {},
   "outputs": [
    {
     "data": {
      "text/plain": [
       "<matplotlib.legend.Legend at 0x16b5730ed90>"
      ]
     },
     "execution_count": 49,
     "metadata": {},
     "output_type": "execute_result"
    },
    {
     "data": {
      "image/png": "[encoded data removed]",
      "text/plain": [
       "<Figure size 432x288 with 1 Axes>"
      ]
     },
     "metadata": {
      "needs_background": "light"
     },
     "output_type": "display_data"
    }
   ],
   "source": [
    "plt.semilogx(neurons_count_arr, train_acc, 'r-o', label = 'train')\n",
    "plt.semilogx(neurons_count_arr, test_acc, 'b-o', label = 'test')\n",
    "plt.xlim([np.min(neurons_count_arr), np.max(neurons_count_arr)])\n",
    "plt.title('Accuracy vs. neurons count')\n",
    "plt.xlabel('neurons count')\n",
    "plt.ylabel('Accuracy')\n",
    "plt.legend()"
   ]
  },
  {
   "cell_type": "markdown",
   "id": "c95bcf8d",
   "metadata": {},
   "source": [
    "Минимальная ошибка на обучающей выборке и минимальная ошибка на тестовой выборке равны:"
   ]
  },
  {
   "cell_type": "code",
   "execution_count": 50,
   "id": "cf2b24b4",
   "metadata": {},
   "outputs": [
    {
     "name": "stdout",
     "output_type": "stream",
     "text": [
      "0.0 0.03331962155491567\n"
     ]
    }
   ],
   "source": [
    "min_train_err = np.min(train_err)\n",
    "min_test_err = np.min(test_err)\n",
    "print(min_train_err, min_test_err)"
   ]
  },
  {
   "cell_type": "code",
   "execution_count": 51,
   "id": "ca40109e",
   "metadata": {},
   "outputs": [
    {
     "name": "stdout",
     "output_type": "stream",
     "text": [
      "79\n"
     ]
    }
   ],
   "source": [
    "neuro_opt = neurons_count_arr[test_err == min_test_err][0]\n",
    "print(neuro_opt)"
   ]
  },
  {
   "cell_type": "markdown",
   "id": "9b19e986",
   "metadata": {},
   "source": [
    "Оптимальное число нейронов = 79"
   ]
  },
  {
   "cell_type": "markdown",
   "id": "e8783571",
   "metadata": {},
   "source": [
    "## Повторное обучение нейронной сети с оптимальными параметрами."
   ]
  },
  {
   "cell_type": "code",
   "execution_count": 52,
   "id": "5c317c1a",
   "metadata": {},
   "outputs": [],
   "source": [
    "mlp_model1 = MLPClassifier(activation = \"logistic\", solver=\"lbfgs\", alpha = alpha_opt,\n",
    "                           hidden_layer_sizes = (neuro_opt, ), max_iter=2000, random_state = 33)"
   ]
  },
  {
   "cell_type": "code",
   "execution_count": 53,
   "id": "c780c306",
   "metadata": {},
   "outputs": [
    {
     "data": {
      "text/plain": [
       "MLPClassifier(activation='logistic', alpha=3.981071705534969e-07,\n",
       "              hidden_layer_sizes=(79,), max_iter=2000, random_state=33,\n",
       "              solver='lbfgs')"
      ]
     },
     "execution_count": 53,
     "metadata": {},
     "output_type": "execute_result"
    }
   ],
   "source": [
    "mlp_model1.fit(X_train, y_train)"
   ]
  },
  {
   "cell_type": "code",
   "execution_count": 54,
   "id": "974f5cc1",
   "metadata": {},
   "outputs": [
    {
     "data": {
      "text/plain": [
       "0.03331962155491567"
      ]
     },
     "execution_count": 54,
     "metadata": {},
     "output_type": "execute_result"
    }
   ],
   "source": [
    "y_test_predict1 = mlp_model1.predict(X_test)\n",
    "err_test1 = np.mean(y_test != y_test_predict1)\n",
    "err_test1"
   ]
  },
  {
   "cell_type": "code",
   "execution_count": 55,
   "id": "31f45580",
   "metadata": {},
   "outputs": [
    {
     "data": {
      "text/plain": [
       "0.000274310794129749"
      ]
     },
     "execution_count": 55,
     "metadata": {},
     "output_type": "execute_result"
    }
   ],
   "source": [
    "y_train_predict1 = mlp_model1.predict(X_train)\n",
    "err_train1 = np.mean(y_train != y_train_predict1)\n",
    "err_train1"
   ]
  },
  {
   "cell_type": "markdown",
   "id": "1d093583",
   "metadata": {},
   "source": [
    "Матрица рассогласования:"
   ]
  },
  {
   "cell_type": "code",
   "execution_count": 56,
   "id": "d26e1ff2",
   "metadata": {},
   "outputs": [
    {
     "name": "stdout",
     "output_type": "stream",
     "text": [
      "[[1158    0]\n",
      " [  82 1191]]\n"
     ]
    }
   ],
   "source": [
    "print(confusion_matrix(y_test_pred, y_test))"
   ]
  },
  {
   "cell_type": "code",
   "execution_count": 57,
   "id": "e9eeffb4",
   "metadata": {},
   "outputs": [
    {
     "data": {
      "image/png": "[encoded data removed]",
      "text/plain": [
       "<Figure size 432x288 with 2 Axes>"
      ]
     },
     "metadata": {
      "needs_background": "light"
     },
     "output_type": "display_data"
    }
   ],
   "source": [
    "M = confusion_matrix(y_test_pred, y_test)\n",
    "M = np.sqrt(M)\n",
    "plt.imshow(M, interpolation = 'nearest')\n",
    "plt.set_cmap('binary')\n",
    "plt.xticks(range(2))\n",
    "plt.yticks(range(2))\n",
    "plt.xlabel(\"true label\")\n",
    "plt.ylabel(\"predicted label\")\n",
    "plt.colorbar()\n",
    "pass"
   ]
  },
  {
   "cell_type": "markdown",
   "id": "e3c39c71",
   "metadata": {},
   "source": [
    "Диагональные элементы матрицы рассогласования отвечают за число случаев, когда сеть правильно предсказала класс объекта. В данной матрице эти случаи доминируют, следовательно, обучение прошло успешно."
   ]
  },
  {
   "cell_type": "markdown",
   "id": "f5889c06",
   "metadata": {},
   "source": [
    "# Вывод:"
   ]
  },
  {
   "cell_type": "markdown",
   "id": "9ae5f0a2",
   "metadata": {},
   "source": [
    "    В ходе работы была обучена однослойная нейронная сеть. Были найдены оптимальное значение alpha = 3.98107171e-07 и оптимальное количество нейронов = 79 для наиболее успешного обучения. Переобучение и недообучение не наблюдаются."
   ]
  }
 ],
 "metadata": {
  "kernelspec": {
   "display_name": "Python 3",
   "language": "python",
   "name": "python3"
  },
  "language_info": {
   "codemirror_mode": {
    "name": "ipython",
    "version": 3
   },
   "file_extension": ".py",
   "mimetype": "text/x-python",
   "name": "python",
   "nbconvert_exporter": "python",
   "pygments_lexer": "ipython3",
   "version": "3.8.8"
  }
 },
 "nbformat": 4,
 "nbformat_minor": 5
}
